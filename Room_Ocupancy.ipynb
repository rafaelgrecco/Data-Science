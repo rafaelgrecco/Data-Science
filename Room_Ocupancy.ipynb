{
  "nbformat": 4,
  "nbformat_minor": 0,
  "metadata": {
    "colab": {
      "name": "Room Ocupancy.ipynb",
      "provenance": [],
      "collapsed_sections": [],
      "authorship_tag": "ABX9TyNAKtvbkISiozmZjxO6jc5m",
      "include_colab_link": true
    },
    "kernelspec": {
      "name": "python3",
      "display_name": "Python 3"
    },
    "language_info": {
      "name": "python"
    }
  },
  "cells": [
    {
      "cell_type": "markdown",
      "metadata": {
        "id": "view-in-github",
        "colab_type": "text"
      },
      "source": [
        "<a href=\"https://colab.research.google.com/github/rafaelgrecco/Data-Science/blob/master/Room_Ocupancy.ipynb\" target=\"_parent\"><img src=\"https://colab.research.google.com/assets/colab-badge.svg\" alt=\"Open In Colab\"/></a>"
      ]
    },
    {
      "cell_type": "code",
      "source": [
        "color_maps = {'turquoise': ['#1abc9c', '#e8f8f5', '#d1f2eb', '#a3e4d7', '#76d7c4', '#48c9b0', '#1abc9c', '#17a589', '#148f77', '#117864', '#0e6251'], 'green': ['#16a085', '#e8f6f3', '#d0ece7', '#a2d9ce', '#73c6b6', '#45b39d', '#16a085', '#138d75', '#117a65', '#0e6655', '#0b5345'], 'emerald': ['#2ecc71', '#eafaf1', '#d5f5e3', '#abebc6', '#82e0aa', '#58d68d', '#2ecc71', '#28b463', '#239b56', '#1d8348', '#186a3b'], 'nephritis': ['#27ae60', '#e9f7ef', '#d4efdf', '#a9dfbf', '#7dcea0', '#52be80', '#27ae60', '#229954', '#1e8449', '#196f3d', '#145a32'], 'peter': ['#3498db', '#ebf5fb', '#d6eaf8', '#aed6f1', '#85c1e9', '#5dade2', '#3498db', '#2e86c1', '#2874a6', '#21618c', '#1b4f72'], 'belize': ['#2980b9', '#eaf2f8', '#d4e6f1', '#a9cce3', '#7fb3d5', '#5499c7', '#2980b9', '#2471a3', '#1f618d', '#1a5276', '#154360'], 'amethyst': ['#9b59b6', '#f5eef8', '#ebdef0', '#d7bde2', '#c39bd3', '#af7ac5', '#9b59b6', '#884ea0', '#76448a', '#633974', '#512e5f'], 'wisteria': ['#8e44ad', '#f4ecf7', '#e8daef', '#d2b4de', '#bb8fce', '#a569bd', '#8e44ad', '#7d3c98', '#6c3483', '#5b2c6f', '#4a235a'], 'wet': ['#34495e', '#ebedef', '#d6dbdf', '#aeb6bf', '#85929e', '#5d6d7e', '#34495e', '#2e4053', '#283747', '#212f3c', '#1b2631'], 'midnight': ['#2c3e50', '#eaecee', '#d5d8dc', '#abb2b9', '#808b96', '#566573', '#2c3e50', '#273746', '#212f3d', '#1c2833', '#17202a'], 'sunflower': ['#f1c40f', '#fef9e7', '#fcf3cf', '#f9e79f', '#f7dc6f', '#f4d03f', '#f1c40f', '#d4ac0d', '#b7950b', '#9a7d0a', '#7d6608'], 'orange': ['#f39c12', '#fef5e7', '#fdebd0', '#fad7a0', '#f8c471', '#f5b041', '#f39c12', '#d68910', '#b9770e', '#9c640c', '#7e5109'], 'carrot': ['#e67e22', '#fdf2e9', '#fae5d3', '#f5cba7', '#f0b27a', '#eb984e', '#e67e22', '#ca6f1e', '#af601a', '#935116', '#784212'], 'pumpkin': ['#d35400', '#fbeee6', '#f6ddcc', '#edbb99', '#e59866', '#dc7633', '#d35400', '#ba4a00', '#a04000', '#873600', '#6e2c00'], 'alizarin': ['#e74c3c', '#fdedec', '#fadbd8', '#f5b7b1', '#f1948a', '#ec7063', '#e74c3c', '#cb4335', '#b03a2e', '#943126', '#78281f'], 'pomegranate': ['#c0392b', '#f9ebea', '#f2d7d5', '#e6b0aa', '#d98880', '#cd6155', '#c0392b', '#a93226', '#922b21', '#7b241c', '#641e16'], 'clouds': ['#ecf0f1', '#fdfefe', '#fbfcfc', '#f7f9f9', '#f4f6f7', '#f0f3f4', '#ecf0f1', '#d0d3d4', '#b3b6b7', '#979a9a', '#7b7d7d'], 'silver': ['#bdc3c7', '#f8f9f9', '#f2f3f4', '#e5e7e9', '#d7dbdd', '#cacfd2', '#bdc3c7', '#a6acaf', '#909497', '#797d7f', '#626567'], 'concrete': ['#95a5a6', '#f4f6f6', '#eaeded', '#d5dbdb', '#bfc9ca', '#aab7b8', '#95a5a6', '#839192', '#717d7e', '#5f6a6a', '#4d5656'], 'asbestos': ['#7f8c8d', '#f2f4f4', '#e5e8e8', '#ccd1d1', '#b2babb', '#99a3a4', '#7f8c8d', '#707b7c', '#616a6b', '#515a5a', '#424949']}"
      ],
      "metadata": {
        "id": "YrGuZ6Xq9hBj"
      },
      "execution_count": 1,
      "outputs": []
    },
    {
      "cell_type": "code",
      "source": [
        "import pandas as pd\n",
        "import numpy as np\n",
        "import matplotlib.pyplot as plt\n",
        "import plotly.express as px\n",
        "import networkx as nx\n",
        "import seaborn as sns\n",
        "import plotly.graph_objects as go\n",
        "from plotly.subplots import make_subplots\n",
        "import random\n",
        "\n",
        "import warnings; warnings.filterwarnings(\"ignore\")"
      ],
      "metadata": {
        "id": "pA4TpLynzZCG"
      },
      "execution_count": 2,
      "outputs": []
    },
    {
      "cell_type": "code",
      "source": [
        "pallete = ['#A9BCD0', '#373F51', '#7E7F9A', '#3D52D5']\n",
        "palette = [\"#5d737e\",\"#64b6ac\",\"#c0fdfb\",\"#daffef\",\"#fcfffd\"]"
      ],
      "metadata": {
        "id": "gQK9hsshzdj0"
      },
      "execution_count": 3,
      "outputs": []
    },
    {
      "cell_type": "code",
      "source": [
        "%matplotlib \n",
        "sns.set_context(\"poster\", font_scale = 0.6,rc = {\"grid.linewidth\": 0.4})\n",
        "sns.set_style({'font.family':'serif'})"
      ],
      "metadata": {
        "colab": {
          "base_uri": "https://localhost:8080/"
        },
        "id": "GCtg8nnc5j4F",
        "outputId": "cf75f712-6f82-413f-b3dc-85e811ec3950"
      },
      "execution_count": 4,
      "outputs": [
        {
          "output_type": "stream",
          "name": "stdout",
          "text": [
            "Using matplotlib backend: agg\n"
          ]
        }
      ]
    },
    {
      "cell_type": "code",
      "source": [
        "data = 'https://raw.githubusercontent.com/rafaelgrecco/Imagens-datasets/master/room-occupancy.txt'\n",
        "df = pd.read_csv(data)\n",
        "df.head()"
      ],
      "metadata": {
        "colab": {
          "base_uri": "https://localhost:8080/",
          "height": 206
        },
        "id": "be2Emr1nzhC8",
        "outputId": "07a2313d-672e-4838-f2ab-e3d056404baa"
      },
      "execution_count": 5,
      "outputs": [
        {
          "output_type": "execute_result",
          "data": {
            "text/html": [
              "\n",
              "  <div id=\"df-608f717d-6027-45e4-bb6e-58023b635be5\">\n",
              "    <div class=\"colab-df-container\">\n",
              "      <div>\n",
              "<style scoped>\n",
              "    .dataframe tbody tr th:only-of-type {\n",
              "        vertical-align: middle;\n",
              "    }\n",
              "\n",
              "    .dataframe tbody tr th {\n",
              "        vertical-align: top;\n",
              "    }\n",
              "\n",
              "    .dataframe thead th {\n",
              "        text-align: right;\n",
              "    }\n",
              "</style>\n",
              "<table border=\"1\" class=\"dataframe\">\n",
              "  <thead>\n",
              "    <tr style=\"text-align: right;\">\n",
              "      <th></th>\n",
              "      <th>date</th>\n",
              "      <th>Temperature</th>\n",
              "      <th>Humidity</th>\n",
              "      <th>Light</th>\n",
              "      <th>CO2</th>\n",
              "      <th>HumidityRatio</th>\n",
              "      <th>Occupancy</th>\n",
              "    </tr>\n",
              "  </thead>\n",
              "  <tbody>\n",
              "    <tr>\n",
              "      <th>140</th>\n",
              "      <td>2015-02-02 14:19:00</td>\n",
              "      <td>23.7000</td>\n",
              "      <td>26.272</td>\n",
              "      <td>585.200000</td>\n",
              "      <td>749.200000</td>\n",
              "      <td>0.004764</td>\n",
              "      <td>1</td>\n",
              "    </tr>\n",
              "    <tr>\n",
              "      <th>141</th>\n",
              "      <td>2015-02-02 14:19:59</td>\n",
              "      <td>23.7180</td>\n",
              "      <td>26.290</td>\n",
              "      <td>578.400000</td>\n",
              "      <td>760.400000</td>\n",
              "      <td>0.004773</td>\n",
              "      <td>1</td>\n",
              "    </tr>\n",
              "    <tr>\n",
              "      <th>142</th>\n",
              "      <td>2015-02-02 14:21:00</td>\n",
              "      <td>23.7300</td>\n",
              "      <td>26.230</td>\n",
              "      <td>572.666667</td>\n",
              "      <td>769.666667</td>\n",
              "      <td>0.004765</td>\n",
              "      <td>1</td>\n",
              "    </tr>\n",
              "    <tr>\n",
              "      <th>143</th>\n",
              "      <td>2015-02-02 14:22:00</td>\n",
              "      <td>23.7225</td>\n",
              "      <td>26.125</td>\n",
              "      <td>493.750000</td>\n",
              "      <td>774.750000</td>\n",
              "      <td>0.004744</td>\n",
              "      <td>1</td>\n",
              "    </tr>\n",
              "    <tr>\n",
              "      <th>144</th>\n",
              "      <td>2015-02-02 14:23:00</td>\n",
              "      <td>23.7540</td>\n",
              "      <td>26.200</td>\n",
              "      <td>488.600000</td>\n",
              "      <td>779.000000</td>\n",
              "      <td>0.004767</td>\n",
              "      <td>1</td>\n",
              "    </tr>\n",
              "  </tbody>\n",
              "</table>\n",
              "</div>\n",
              "      <button class=\"colab-df-convert\" onclick=\"convertToInteractive('df-608f717d-6027-45e4-bb6e-58023b635be5')\"\n",
              "              title=\"Convert this dataframe to an interactive table.\"\n",
              "              style=\"display:none;\">\n",
              "        \n",
              "  <svg xmlns=\"http://www.w3.org/2000/svg\" height=\"24px\"viewBox=\"0 0 24 24\"\n",
              "       width=\"24px\">\n",
              "    <path d=\"M0 0h24v24H0V0z\" fill=\"none\"/>\n",
              "    <path d=\"M18.56 5.44l.94 2.06.94-2.06 2.06-.94-2.06-.94-.94-2.06-.94 2.06-2.06.94zm-11 1L8.5 8.5l.94-2.06 2.06-.94-2.06-.94L8.5 2.5l-.94 2.06-2.06.94zm10 10l.94 2.06.94-2.06 2.06-.94-2.06-.94-.94-2.06-.94 2.06-2.06.94z\"/><path d=\"M17.41 7.96l-1.37-1.37c-.4-.4-.92-.59-1.43-.59-.52 0-1.04.2-1.43.59L10.3 9.45l-7.72 7.72c-.78.78-.78 2.05 0 2.83L4 21.41c.39.39.9.59 1.41.59.51 0 1.02-.2 1.41-.59l7.78-7.78 2.81-2.81c.8-.78.8-2.07 0-2.86zM5.41 20L4 18.59l7.72-7.72 1.47 1.35L5.41 20z\"/>\n",
              "  </svg>\n",
              "      </button>\n",
              "      \n",
              "  <style>\n",
              "    .colab-df-container {\n",
              "      display:flex;\n",
              "      flex-wrap:wrap;\n",
              "      gap: 12px;\n",
              "    }\n",
              "\n",
              "    .colab-df-convert {\n",
              "      background-color: #E8F0FE;\n",
              "      border: none;\n",
              "      border-radius: 50%;\n",
              "      cursor: pointer;\n",
              "      display: none;\n",
              "      fill: #1967D2;\n",
              "      height: 32px;\n",
              "      padding: 0 0 0 0;\n",
              "      width: 32px;\n",
              "    }\n",
              "\n",
              "    .colab-df-convert:hover {\n",
              "      background-color: #E2EBFA;\n",
              "      box-shadow: 0px 1px 2px rgba(60, 64, 67, 0.3), 0px 1px 3px 1px rgba(60, 64, 67, 0.15);\n",
              "      fill: #174EA6;\n",
              "    }\n",
              "\n",
              "    [theme=dark] .colab-df-convert {\n",
              "      background-color: #3B4455;\n",
              "      fill: #D2E3FC;\n",
              "    }\n",
              "\n",
              "    [theme=dark] .colab-df-convert:hover {\n",
              "      background-color: #434B5C;\n",
              "      box-shadow: 0px 1px 3px 1px rgba(0, 0, 0, 0.15);\n",
              "      filter: drop-shadow(0px 1px 2px rgba(0, 0, 0, 0.3));\n",
              "      fill: #FFFFFF;\n",
              "    }\n",
              "  </style>\n",
              "\n",
              "      <script>\n",
              "        const buttonEl =\n",
              "          document.querySelector('#df-608f717d-6027-45e4-bb6e-58023b635be5 button.colab-df-convert');\n",
              "        buttonEl.style.display =\n",
              "          google.colab.kernel.accessAllowed ? 'block' : 'none';\n",
              "\n",
              "        async function convertToInteractive(key) {\n",
              "          const element = document.querySelector('#df-608f717d-6027-45e4-bb6e-58023b635be5');\n",
              "          const dataTable =\n",
              "            await google.colab.kernel.invokeFunction('convertToInteractive',\n",
              "                                                     [key], {});\n",
              "          if (!dataTable) return;\n",
              "\n",
              "          const docLinkHtml = 'Like what you see? Visit the ' +\n",
              "            '<a target=\"_blank\" href=https://colab.research.google.com/notebooks/data_table.ipynb>data table notebook</a>'\n",
              "            + ' to learn more about interactive tables.';\n",
              "          element.innerHTML = '';\n",
              "          dataTable['output_type'] = 'display_data';\n",
              "          await google.colab.output.renderOutput(dataTable, element);\n",
              "          const docLink = document.createElement('div');\n",
              "          docLink.innerHTML = docLinkHtml;\n",
              "          element.appendChild(docLink);\n",
              "        }\n",
              "      </script>\n",
              "    </div>\n",
              "  </div>\n",
              "  "
            ],
            "text/plain": [
              "                    date  Temperature  ...  HumidityRatio  Occupancy\n",
              "140  2015-02-02 14:19:00      23.7000  ...       0.004764          1\n",
              "141  2015-02-02 14:19:59      23.7180  ...       0.004773          1\n",
              "142  2015-02-02 14:21:00      23.7300  ...       0.004765          1\n",
              "143  2015-02-02 14:22:00      23.7225  ...       0.004744          1\n",
              "144  2015-02-02 14:23:00      23.7540  ...       0.004767          1\n",
              "\n",
              "[5 rows x 7 columns]"
            ]
          },
          "metadata": {},
          "execution_count": 5
        }
      ]
    },
    {
      "cell_type": "code",
      "source": [
        "df.info()"
      ],
      "metadata": {
        "colab": {
          "base_uri": "https://localhost:8080/"
        },
        "id": "Hzm-8smy5gcP",
        "outputId": "91379cac-337a-45ac-e76c-71dfd1adbfbc"
      },
      "execution_count": 6,
      "outputs": [
        {
          "output_type": "stream",
          "name": "stdout",
          "text": [
            "<class 'pandas.core.frame.DataFrame'>\n",
            "Int64Index: 2665 entries, 140 to 2804\n",
            "Data columns (total 7 columns):\n",
            " #   Column         Non-Null Count  Dtype  \n",
            "---  ------         --------------  -----  \n",
            " 0   date           2665 non-null   object \n",
            " 1   Temperature    2665 non-null   float64\n",
            " 2   Humidity       2665 non-null   float64\n",
            " 3   Light          2665 non-null   float64\n",
            " 4   CO2            2665 non-null   float64\n",
            " 5   HumidityRatio  2665 non-null   float64\n",
            " 6   Occupancy      2665 non-null   int64  \n",
            "dtypes: float64(5), int64(1), object(1)\n",
            "memory usage: 166.6+ KB\n"
          ]
        }
      ]
    },
    {
      "cell_type": "code",
      "source": [
        "df[['Temperature', 'Humidity', 'Light', 'CO2', 'HumidityRatio']].describe().T.style.background_gradient(cmap='PuBu')"
      ],
      "metadata": {
        "colab": {
          "base_uri": "https://localhost:8080/",
          "height": 206
        },
        "id": "ke2OAAS35xX2",
        "outputId": "97e07503-9e39-407b-d965-368ccd67a008"
      },
      "execution_count": 7,
      "outputs": [
        {
          "output_type": "execute_result",
          "data": {
            "text/html": [
              "<style  type=\"text/css\" >\n",
              "#T_fe876ee6_6378_11ec_9faa_0242ac1c0002row0_col0,#T_fe876ee6_6378_11ec_9faa_0242ac1c0002row0_col2,#T_fe876ee6_6378_11ec_9faa_0242ac1c0002row1_col0,#T_fe876ee6_6378_11ec_9faa_0242ac1c0002row2_col0,#T_fe876ee6_6378_11ec_9faa_0242ac1c0002row2_col3,#T_fe876ee6_6378_11ec_9faa_0242ac1c0002row2_col4,#T_fe876ee6_6378_11ec_9faa_0242ac1c0002row2_col5,#T_fe876ee6_6378_11ec_9faa_0242ac1c0002row3_col0,#T_fe876ee6_6378_11ec_9faa_0242ac1c0002row4_col0,#T_fe876ee6_6378_11ec_9faa_0242ac1c0002row4_col1,#T_fe876ee6_6378_11ec_9faa_0242ac1c0002row4_col2,#T_fe876ee6_6378_11ec_9faa_0242ac1c0002row4_col3,#T_fe876ee6_6378_11ec_9faa_0242ac1c0002row4_col4,#T_fe876ee6_6378_11ec_9faa_0242ac1c0002row4_col5,#T_fe876ee6_6378_11ec_9faa_0242ac1c0002row4_col6,#T_fe876ee6_6378_11ec_9faa_0242ac1c0002row4_col7{\n",
              "            background-color:  #fff7fb;\n",
              "            color:  #000000;\n",
              "        }#T_fe876ee6_6378_11ec_9faa_0242ac1c0002row0_col1,#T_fe876ee6_6378_11ec_9faa_0242ac1c0002row1_col6{\n",
              "            background-color:  #fbf3f9;\n",
              "            color:  #000000;\n",
              "        }#T_fe876ee6_6378_11ec_9faa_0242ac1c0002row0_col3,#T_fe876ee6_6378_11ec_9faa_0242ac1c0002row0_col4,#T_fe876ee6_6378_11ec_9faa_0242ac1c0002row1_col4,#T_fe876ee6_6378_11ec_9faa_0242ac1c0002row1_col5{\n",
              "            background-color:  #f8f1f8;\n",
              "            color:  #000000;\n",
              "        }#T_fe876ee6_6378_11ec_9faa_0242ac1c0002row0_col5,#T_fe876ee6_6378_11ec_9faa_0242ac1c0002row1_col1{\n",
              "            background-color:  #faf2f8;\n",
              "            color:  #000000;\n",
              "        }#T_fe876ee6_6378_11ec_9faa_0242ac1c0002row0_col6{\n",
              "            background-color:  #fcf4fa;\n",
              "            color:  #000000;\n",
              "        }#T_fe876ee6_6378_11ec_9faa_0242ac1c0002row0_col7,#T_fe876ee6_6378_11ec_9faa_0242ac1c0002row1_col7{\n",
              "            background-color:  #fdf5fa;\n",
              "            color:  #000000;\n",
              "        }#T_fe876ee6_6378_11ec_9faa_0242ac1c0002row1_col2{\n",
              "            background-color:  #fef6fa;\n",
              "            color:  #000000;\n",
              "        }#T_fe876ee6_6378_11ec_9faa_0242ac1c0002row1_col3{\n",
              "            background-color:  #f7f0f7;\n",
              "            color:  #000000;\n",
              "        }#T_fe876ee6_6378_11ec_9faa_0242ac1c0002row2_col1{\n",
              "            background-color:  #cacee5;\n",
              "            color:  #000000;\n",
              "        }#T_fe876ee6_6378_11ec_9faa_0242ac1c0002row2_col2{\n",
              "            background-color:  #045e93;\n",
              "            color:  #f1f1f1;\n",
              "        }#T_fe876ee6_6378_11ec_9faa_0242ac1c0002row2_col6{\n",
              "            background-color:  #83afd3;\n",
              "            color:  #000000;\n",
              "        }#T_fe876ee6_6378_11ec_9faa_0242ac1c0002row2_col7,#T_fe876ee6_6378_11ec_9faa_0242ac1c0002row3_col1,#T_fe876ee6_6378_11ec_9faa_0242ac1c0002row3_col2,#T_fe876ee6_6378_11ec_9faa_0242ac1c0002row3_col3,#T_fe876ee6_6378_11ec_9faa_0242ac1c0002row3_col4,#T_fe876ee6_6378_11ec_9faa_0242ac1c0002row3_col5,#T_fe876ee6_6378_11ec_9faa_0242ac1c0002row3_col6{\n",
              "            background-color:  #023858;\n",
              "            color:  #f1f1f1;\n",
              "        }#T_fe876ee6_6378_11ec_9faa_0242ac1c0002row3_col7{\n",
              "            background-color:  #04629a;\n",
              "            color:  #f1f1f1;\n",
              "        }</style><table id=\"T_fe876ee6_6378_11ec_9faa_0242ac1c0002\" class=\"dataframe\"><thead>    <tr>        <th class=\"blank level0\" ></th>        <th class=\"col_heading level0 col0\" >count</th>        <th class=\"col_heading level0 col1\" >mean</th>        <th class=\"col_heading level0 col2\" >std</th>        <th class=\"col_heading level0 col3\" >min</th>        <th class=\"col_heading level0 col4\" >25%</th>        <th class=\"col_heading level0 col5\" >50%</th>        <th class=\"col_heading level0 col6\" >75%</th>        <th class=\"col_heading level0 col7\" >max</th>    </tr></thead><tbody>\n",
              "                <tr>\n",
              "                        <th id=\"T_fe876ee6_6378_11ec_9faa_0242ac1c0002level0_row0\" class=\"row_heading level0 row0\" >Temperature</th>\n",
              "                        <td id=\"T_fe876ee6_6378_11ec_9faa_0242ac1c0002row0_col0\" class=\"data row0 col0\" >2665.000000</td>\n",
              "                        <td id=\"T_fe876ee6_6378_11ec_9faa_0242ac1c0002row0_col1\" class=\"data row0 col1\" >21.433876</td>\n",
              "                        <td id=\"T_fe876ee6_6378_11ec_9faa_0242ac1c0002row0_col2\" class=\"data row0 col2\" >1.028024</td>\n",
              "                        <td id=\"T_fe876ee6_6378_11ec_9faa_0242ac1c0002row0_col3\" class=\"data row0 col3\" >20.200000</td>\n",
              "                        <td id=\"T_fe876ee6_6378_11ec_9faa_0242ac1c0002row0_col4\" class=\"data row0 col4\" >20.650000</td>\n",
              "                        <td id=\"T_fe876ee6_6378_11ec_9faa_0242ac1c0002row0_col5\" class=\"data row0 col5\" >20.890000</td>\n",
              "                        <td id=\"T_fe876ee6_6378_11ec_9faa_0242ac1c0002row0_col6\" class=\"data row0 col6\" >22.356667</td>\n",
              "                        <td id=\"T_fe876ee6_6378_11ec_9faa_0242ac1c0002row0_col7\" class=\"data row0 col7\" >24.408333</td>\n",
              "            </tr>\n",
              "            <tr>\n",
              "                        <th id=\"T_fe876ee6_6378_11ec_9faa_0242ac1c0002level0_row1\" class=\"row_heading level0 row1\" >Humidity</th>\n",
              "                        <td id=\"T_fe876ee6_6378_11ec_9faa_0242ac1c0002row1_col0\" class=\"data row1 col0\" >2665.000000</td>\n",
              "                        <td id=\"T_fe876ee6_6378_11ec_9faa_0242ac1c0002row1_col1\" class=\"data row1 col1\" >25.353937</td>\n",
              "                        <td id=\"T_fe876ee6_6378_11ec_9faa_0242ac1c0002row1_col2\" class=\"data row1 col2\" >2.436842</td>\n",
              "                        <td id=\"T_fe876ee6_6378_11ec_9faa_0242ac1c0002row1_col3\" class=\"data row1 col3\" >22.100000</td>\n",
              "                        <td id=\"T_fe876ee6_6378_11ec_9faa_0242ac1c0002row1_col4\" class=\"data row1 col4\" >23.260000</td>\n",
              "                        <td id=\"T_fe876ee6_6378_11ec_9faa_0242ac1c0002row1_col5\" class=\"data row1 col5\" >25.000000</td>\n",
              "                        <td id=\"T_fe876ee6_6378_11ec_9faa_0242ac1c0002row1_col6\" class=\"data row1 col6\" >26.856667</td>\n",
              "                        <td id=\"T_fe876ee6_6378_11ec_9faa_0242ac1c0002row1_col7\" class=\"data row1 col7\" >31.472500</td>\n",
              "            </tr>\n",
              "            <tr>\n",
              "                        <th id=\"T_fe876ee6_6378_11ec_9faa_0242ac1c0002level0_row2\" class=\"row_heading level0 row2\" >Light</th>\n",
              "                        <td id=\"T_fe876ee6_6378_11ec_9faa_0242ac1c0002row2_col0\" class=\"data row2 col0\" >2665.000000</td>\n",
              "                        <td id=\"T_fe876ee6_6378_11ec_9faa_0242ac1c0002row2_col1\" class=\"data row2 col1\" >193.227556</td>\n",
              "                        <td id=\"T_fe876ee6_6378_11ec_9faa_0242ac1c0002row2_col2\" class=\"data row2 col2\" >250.210906</td>\n",
              "                        <td id=\"T_fe876ee6_6378_11ec_9faa_0242ac1c0002row2_col3\" class=\"data row2 col3\" >0.000000</td>\n",
              "                        <td id=\"T_fe876ee6_6378_11ec_9faa_0242ac1c0002row2_col4\" class=\"data row2 col4\" >0.000000</td>\n",
              "                        <td id=\"T_fe876ee6_6378_11ec_9faa_0242ac1c0002row2_col5\" class=\"data row2 col5\" >0.000000</td>\n",
              "                        <td id=\"T_fe876ee6_6378_11ec_9faa_0242ac1c0002row2_col6\" class=\"data row2 col6\" >442.500000</td>\n",
              "                        <td id=\"T_fe876ee6_6378_11ec_9faa_0242ac1c0002row2_col7\" class=\"data row2 col7\" >1697.250000</td>\n",
              "            </tr>\n",
              "            <tr>\n",
              "                        <th id=\"T_fe876ee6_6378_11ec_9faa_0242ac1c0002level0_row3\" class=\"row_heading level0 row3\" >CO2</th>\n",
              "                        <td id=\"T_fe876ee6_6378_11ec_9faa_0242ac1c0002row3_col0\" class=\"data row3 col0\" >2665.000000</td>\n",
              "                        <td id=\"T_fe876ee6_6378_11ec_9faa_0242ac1c0002row3_col1\" class=\"data row3 col1\" >717.906470</td>\n",
              "                        <td id=\"T_fe876ee6_6378_11ec_9faa_0242ac1c0002row3_col2\" class=\"data row3 col2\" >292.681718</td>\n",
              "                        <td id=\"T_fe876ee6_6378_11ec_9faa_0242ac1c0002row3_col3\" class=\"data row3 col3\" >427.500000</td>\n",
              "                        <td id=\"T_fe876ee6_6378_11ec_9faa_0242ac1c0002row3_col4\" class=\"data row3 col4\" >466.000000</td>\n",
              "                        <td id=\"T_fe876ee6_6378_11ec_9faa_0242ac1c0002row3_col5\" class=\"data row3 col5\" >580.500000</td>\n",
              "                        <td id=\"T_fe876ee6_6378_11ec_9faa_0242ac1c0002row3_col6\" class=\"data row3 col6\" >956.333333</td>\n",
              "                        <td id=\"T_fe876ee6_6378_11ec_9faa_0242ac1c0002row3_col7\" class=\"data row3 col7\" >1402.250000</td>\n",
              "            </tr>\n",
              "            <tr>\n",
              "                        <th id=\"T_fe876ee6_6378_11ec_9faa_0242ac1c0002level0_row4\" class=\"row_heading level0 row4\" >HumidityRatio</th>\n",
              "                        <td id=\"T_fe876ee6_6378_11ec_9faa_0242ac1c0002row4_col0\" class=\"data row4 col0\" >2665.000000</td>\n",
              "                        <td id=\"T_fe876ee6_6378_11ec_9faa_0242ac1c0002row4_col1\" class=\"data row4 col1\" >0.004027</td>\n",
              "                        <td id=\"T_fe876ee6_6378_11ec_9faa_0242ac1c0002row4_col2\" class=\"data row4 col2\" >0.000611</td>\n",
              "                        <td id=\"T_fe876ee6_6378_11ec_9faa_0242ac1c0002row4_col3\" class=\"data row4 col3\" >0.003303</td>\n",
              "                        <td id=\"T_fe876ee6_6378_11ec_9faa_0242ac1c0002row4_col4\" class=\"data row4 col4\" >0.003529</td>\n",
              "                        <td id=\"T_fe876ee6_6378_11ec_9faa_0242ac1c0002row4_col5\" class=\"data row4 col5\" >0.003815</td>\n",
              "                        <td id=\"T_fe876ee6_6378_11ec_9faa_0242ac1c0002row4_col6\" class=\"data row4 col6\" >0.004532</td>\n",
              "                        <td id=\"T_fe876ee6_6378_11ec_9faa_0242ac1c0002row4_col7\" class=\"data row4 col7\" >0.005378</td>\n",
              "            </tr>\n",
              "    </tbody></table>"
            ],
            "text/plain": [
              "<pandas.io.formats.style.Styler at 0x7f8ebbc252d0>"
            ]
          },
          "metadata": {},
          "execution_count": 7
        }
      ]
    },
    {
      "cell_type": "code",
      "source": [
        "fig = make_subplots(rows=1, cols=2)\n",
        "fig.add_trace(go.Indicator(mode='number', value=df['Occupancy'].value_counts()[0],\n",
        "                          number={'font':{'color':palette[1],'size':100}}, title={'text':'Empty Rooms<br><span style=\"font-size:0.8em;color:gray\">On the dataset</span>'},\n",
        "                          domain={'x':[0, 0.5], 'y':[0.6, 1]}))\n",
        "fig.add_trace(go.Indicator(mode='number', value=df['Occupancy'].value_counts()[1],\n",
        "                          number={'font':{'color':palette[0],'size':100}}, title={'text':'Filled Rooms<br><span style=\"font-size:0.8em;color:gray\">On the dataset</span>'},\n",
        "                          domain={'x':[0.5, 1], 'y':[0, 0.4]}))\n",
        "fig.show()"
      ],
      "metadata": {
        "colab": {
          "base_uri": "https://localhost:8080/",
          "height": 542
        },
        "id": "uTvoon4352nl",
        "outputId": "077869a7-ae0a-45de-befc-a13de9a6d549"
      },
      "execution_count": 8,
      "outputs": [
        {
          "output_type": "display_data",
          "data": {
            "text/html": [
              "<html>\n",
              "<head><meta charset=\"utf-8\" /></head>\n",
              "<body>\n",
              "    <div>\n",
              "            <script src=\"https://cdnjs.cloudflare.com/ajax/libs/mathjax/2.7.5/MathJax.js?config=TeX-AMS-MML_SVG\"></script><script type=\"text/javascript\">if (window.MathJax) {MathJax.Hub.Config({SVG: {font: \"STIX-Web\"}});}</script>\n",
              "                <script type=\"text/javascript\">window.PlotlyConfig = {MathJaxConfig: 'local'};</script>\n",
              "        <script src=\"https://cdn.plot.ly/plotly-latest.min.js\"></script>    \n",
              "            <div id=\"6aaf6273-5115-4674-bdcb-80dc35a4a8ab\" class=\"plotly-graph-div\" style=\"height:525px; width:100%;\"></div>\n",
              "            <script type=\"text/javascript\">\n",
              "                \n",
              "                    window.PLOTLYENV=window.PLOTLYENV || {};\n",
              "                    \n",
              "                if (document.getElementById(\"6aaf6273-5115-4674-bdcb-80dc35a4a8ab\")) {\n",
              "                    Plotly.newPlot(\n",
              "                        '6aaf6273-5115-4674-bdcb-80dc35a4a8ab',\n",
              "                        [{\"domain\": {\"x\": [0, 0.5], \"y\": [0.6, 1]}, \"mode\": \"number\", \"number\": {\"font\": {\"color\": \"#64b6ac\", \"size\": 100}}, \"title\": {\"text\": \"Empty Rooms<br><span style=\\\"font-size:0.8em;color:gray\\\">On the dataset</span>\"}, \"type\": \"indicator\", \"value\": 1693}, {\"domain\": {\"x\": [0.5, 1], \"y\": [0, 0.4]}, \"mode\": \"number\", \"number\": {\"font\": {\"color\": \"#5d737e\", \"size\": 100}}, \"title\": {\"text\": \"Filled Rooms<br><span style=\\\"font-size:0.8em;color:gray\\\">On the dataset</span>\"}, \"type\": \"indicator\", \"value\": 972}],\n",
              "                        {\"template\": {\"data\": {\"bar\": [{\"error_x\": {\"color\": \"#2a3f5f\"}, \"error_y\": {\"color\": \"#2a3f5f\"}, \"marker\": {\"line\": {\"color\": \"#E5ECF6\", \"width\": 0.5}}, \"type\": \"bar\"}], \"barpolar\": [{\"marker\": {\"line\": {\"color\": \"#E5ECF6\", \"width\": 0.5}}, \"type\": \"barpolar\"}], \"carpet\": [{\"aaxis\": {\"endlinecolor\": \"#2a3f5f\", \"gridcolor\": \"white\", \"linecolor\": \"white\", \"minorgridcolor\": \"white\", \"startlinecolor\": \"#2a3f5f\"}, \"baxis\": {\"endlinecolor\": \"#2a3f5f\", \"gridcolor\": \"white\", \"linecolor\": \"white\", \"minorgridcolor\": \"white\", \"startlinecolor\": \"#2a3f5f\"}, \"type\": \"carpet\"}], \"choropleth\": [{\"colorbar\": {\"outlinewidth\": 0, \"ticks\": \"\"}, \"type\": \"choropleth\"}], \"contour\": [{\"colorbar\": {\"outlinewidth\": 0, \"ticks\": \"\"}, \"colorscale\": [[0.0, \"#0d0887\"], [0.1111111111111111, \"#46039f\"], [0.2222222222222222, \"#7201a8\"], [0.3333333333333333, \"#9c179e\"], [0.4444444444444444, \"#bd3786\"], [0.5555555555555556, \"#d8576b\"], [0.6666666666666666, \"#ed7953\"], [0.7777777777777778, \"#fb9f3a\"], [0.8888888888888888, \"#fdca26\"], [1.0, \"#f0f921\"]], \"type\": \"contour\"}], \"contourcarpet\": [{\"colorbar\": {\"outlinewidth\": 0, \"ticks\": \"\"}, \"type\": \"contourcarpet\"}], \"heatmap\": [{\"colorbar\": {\"outlinewidth\": 0, \"ticks\": \"\"}, \"colorscale\": [[0.0, \"#0d0887\"], [0.1111111111111111, \"#46039f\"], [0.2222222222222222, \"#7201a8\"], [0.3333333333333333, \"#9c179e\"], [0.4444444444444444, \"#bd3786\"], [0.5555555555555556, \"#d8576b\"], [0.6666666666666666, \"#ed7953\"], [0.7777777777777778, \"#fb9f3a\"], [0.8888888888888888, \"#fdca26\"], [1.0, \"#f0f921\"]], \"type\": \"heatmap\"}], \"heatmapgl\": [{\"colorbar\": {\"outlinewidth\": 0, \"ticks\": \"\"}, \"colorscale\": [[0.0, \"#0d0887\"], [0.1111111111111111, \"#46039f\"], [0.2222222222222222, \"#7201a8\"], [0.3333333333333333, \"#9c179e\"], [0.4444444444444444, \"#bd3786\"], [0.5555555555555556, \"#d8576b\"], [0.6666666666666666, \"#ed7953\"], [0.7777777777777778, \"#fb9f3a\"], [0.8888888888888888, \"#fdca26\"], [1.0, \"#f0f921\"]], \"type\": \"heatmapgl\"}], \"histogram\": [{\"marker\": {\"colorbar\": {\"outlinewidth\": 0, \"ticks\": \"\"}}, \"type\": \"histogram\"}], \"histogram2d\": [{\"colorbar\": {\"outlinewidth\": 0, \"ticks\": \"\"}, \"colorscale\": [[0.0, \"#0d0887\"], [0.1111111111111111, \"#46039f\"], [0.2222222222222222, \"#7201a8\"], [0.3333333333333333, \"#9c179e\"], [0.4444444444444444, \"#bd3786\"], [0.5555555555555556, \"#d8576b\"], [0.6666666666666666, \"#ed7953\"], [0.7777777777777778, \"#fb9f3a\"], [0.8888888888888888, \"#fdca26\"], [1.0, \"#f0f921\"]], \"type\": \"histogram2d\"}], \"histogram2dcontour\": [{\"colorbar\": {\"outlinewidth\": 0, \"ticks\": \"\"}, \"colorscale\": [[0.0, \"#0d0887\"], [0.1111111111111111, \"#46039f\"], [0.2222222222222222, \"#7201a8\"], [0.3333333333333333, \"#9c179e\"], [0.4444444444444444, \"#bd3786\"], [0.5555555555555556, \"#d8576b\"], [0.6666666666666666, \"#ed7953\"], [0.7777777777777778, \"#fb9f3a\"], [0.8888888888888888, \"#fdca26\"], [1.0, \"#f0f921\"]], \"type\": \"histogram2dcontour\"}], \"mesh3d\": [{\"colorbar\": {\"outlinewidth\": 0, \"ticks\": \"\"}, \"type\": \"mesh3d\"}], \"parcoords\": [{\"line\": {\"colorbar\": {\"outlinewidth\": 0, \"ticks\": \"\"}}, \"type\": \"parcoords\"}], \"pie\": [{\"automargin\": true, \"type\": \"pie\"}], \"scatter\": [{\"marker\": {\"colorbar\": {\"outlinewidth\": 0, \"ticks\": \"\"}}, \"type\": \"scatter\"}], \"scatter3d\": [{\"line\": {\"colorbar\": {\"outlinewidth\": 0, \"ticks\": \"\"}}, \"marker\": {\"colorbar\": {\"outlinewidth\": 0, \"ticks\": \"\"}}, \"type\": \"scatter3d\"}], \"scattercarpet\": [{\"marker\": {\"colorbar\": {\"outlinewidth\": 0, \"ticks\": \"\"}}, \"type\": \"scattercarpet\"}], \"scattergeo\": [{\"marker\": {\"colorbar\": {\"outlinewidth\": 0, \"ticks\": \"\"}}, \"type\": \"scattergeo\"}], \"scattergl\": [{\"marker\": {\"colorbar\": {\"outlinewidth\": 0, \"ticks\": \"\"}}, \"type\": \"scattergl\"}], \"scattermapbox\": [{\"marker\": {\"colorbar\": {\"outlinewidth\": 0, \"ticks\": \"\"}}, \"type\": \"scattermapbox\"}], \"scatterpolar\": [{\"marker\": {\"colorbar\": {\"outlinewidth\": 0, \"ticks\": \"\"}}, \"type\": \"scatterpolar\"}], \"scatterpolargl\": [{\"marker\": {\"colorbar\": {\"outlinewidth\": 0, \"ticks\": \"\"}}, \"type\": \"scatterpolargl\"}], \"scatterternary\": [{\"marker\": {\"colorbar\": {\"outlinewidth\": 0, \"ticks\": \"\"}}, \"type\": \"scatterternary\"}], \"surface\": [{\"colorbar\": {\"outlinewidth\": 0, \"ticks\": \"\"}, \"colorscale\": [[0.0, \"#0d0887\"], [0.1111111111111111, \"#46039f\"], [0.2222222222222222, \"#7201a8\"], [0.3333333333333333, \"#9c179e\"], [0.4444444444444444, \"#bd3786\"], [0.5555555555555556, \"#d8576b\"], [0.6666666666666666, \"#ed7953\"], [0.7777777777777778, \"#fb9f3a\"], [0.8888888888888888, \"#fdca26\"], [1.0, \"#f0f921\"]], \"type\": \"surface\"}], \"table\": [{\"cells\": {\"fill\": {\"color\": \"#EBF0F8\"}, \"line\": {\"color\": \"white\"}}, \"header\": {\"fill\": {\"color\": \"#C8D4E3\"}, \"line\": {\"color\": \"white\"}}, \"type\": \"table\"}]}, \"layout\": {\"annotationdefaults\": {\"arrowcolor\": \"#2a3f5f\", \"arrowhead\": 0, \"arrowwidth\": 1}, \"coloraxis\": {\"colorbar\": {\"outlinewidth\": 0, \"ticks\": \"\"}}, \"colorscale\": {\"diverging\": [[0, \"#8e0152\"], [0.1, \"#c51b7d\"], [0.2, \"#de77ae\"], [0.3, \"#f1b6da\"], [0.4, \"#fde0ef\"], [0.5, \"#f7f7f7\"], [0.6, \"#e6f5d0\"], [0.7, \"#b8e186\"], [0.8, \"#7fbc41\"], [0.9, \"#4d9221\"], [1, \"#276419\"]], \"sequential\": [[0.0, \"#0d0887\"], [0.1111111111111111, \"#46039f\"], [0.2222222222222222, \"#7201a8\"], [0.3333333333333333, \"#9c179e\"], [0.4444444444444444, \"#bd3786\"], [0.5555555555555556, \"#d8576b\"], [0.6666666666666666, \"#ed7953\"], [0.7777777777777778, \"#fb9f3a\"], [0.8888888888888888, \"#fdca26\"], [1.0, \"#f0f921\"]], \"sequentialminus\": [[0.0, \"#0d0887\"], [0.1111111111111111, \"#46039f\"], [0.2222222222222222, \"#7201a8\"], [0.3333333333333333, \"#9c179e\"], [0.4444444444444444, \"#bd3786\"], [0.5555555555555556, \"#d8576b\"], [0.6666666666666666, \"#ed7953\"], [0.7777777777777778, \"#fb9f3a\"], [0.8888888888888888, \"#fdca26\"], [1.0, \"#f0f921\"]]}, \"colorway\": [\"#636efa\", \"#EF553B\", \"#00cc96\", \"#ab63fa\", \"#FFA15A\", \"#19d3f3\", \"#FF6692\", \"#B6E880\", \"#FF97FF\", \"#FECB52\"], \"font\": {\"color\": \"#2a3f5f\"}, \"geo\": {\"bgcolor\": \"white\", \"lakecolor\": \"white\", \"landcolor\": \"#E5ECF6\", \"showlakes\": true, \"showland\": true, \"subunitcolor\": \"white\"}, \"hoverlabel\": {\"align\": \"left\"}, \"hovermode\": \"closest\", \"mapbox\": {\"style\": \"light\"}, \"paper_bgcolor\": \"white\", \"plot_bgcolor\": \"#E5ECF6\", \"polar\": {\"angularaxis\": {\"gridcolor\": \"white\", \"linecolor\": \"white\", \"ticks\": \"\"}, \"bgcolor\": \"#E5ECF6\", \"radialaxis\": {\"gridcolor\": \"white\", \"linecolor\": \"white\", \"ticks\": \"\"}}, \"scene\": {\"xaxis\": {\"backgroundcolor\": \"#E5ECF6\", \"gridcolor\": \"white\", \"gridwidth\": 2, \"linecolor\": \"white\", \"showbackground\": true, \"ticks\": \"\", \"zerolinecolor\": \"white\"}, \"yaxis\": {\"backgroundcolor\": \"#E5ECF6\", \"gridcolor\": \"white\", \"gridwidth\": 2, \"linecolor\": \"white\", \"showbackground\": true, \"ticks\": \"\", \"zerolinecolor\": \"white\"}, \"zaxis\": {\"backgroundcolor\": \"#E5ECF6\", \"gridcolor\": \"white\", \"gridwidth\": 2, \"linecolor\": \"white\", \"showbackground\": true, \"ticks\": \"\", \"zerolinecolor\": \"white\"}}, \"shapedefaults\": {\"line\": {\"color\": \"#2a3f5f\"}}, \"ternary\": {\"aaxis\": {\"gridcolor\": \"white\", \"linecolor\": \"white\", \"ticks\": \"\"}, \"baxis\": {\"gridcolor\": \"white\", \"linecolor\": \"white\", \"ticks\": \"\"}, \"bgcolor\": \"#E5ECF6\", \"caxis\": {\"gridcolor\": \"white\", \"linecolor\": \"white\", \"ticks\": \"\"}}, \"title\": {\"x\": 0.05}, \"xaxis\": {\"automargin\": true, \"gridcolor\": \"white\", \"linecolor\": \"white\", \"ticks\": \"\", \"title\": {\"standoff\": 15}, \"zerolinecolor\": \"white\", \"zerolinewidth\": 2}, \"yaxis\": {\"automargin\": true, \"gridcolor\": \"white\", \"linecolor\": \"white\", \"ticks\": \"\", \"title\": {\"standoff\": 15}, \"zerolinecolor\": \"white\", \"zerolinewidth\": 2}}}, \"xaxis\": {\"anchor\": \"y\", \"domain\": [0.0, 0.45]}, \"xaxis2\": {\"anchor\": \"y2\", \"domain\": [0.55, 1.0]}, \"yaxis\": {\"anchor\": \"x\", \"domain\": [0.0, 1.0]}, \"yaxis2\": {\"anchor\": \"x2\", \"domain\": [0.0, 1.0]}},\n",
              "                        {\"responsive\": true}\n",
              "                    ).then(function(){\n",
              "                            \n",
              "var gd = document.getElementById('6aaf6273-5115-4674-bdcb-80dc35a4a8ab');\n",
              "var x = new MutationObserver(function (mutations, observer) {{\n",
              "        var display = window.getComputedStyle(gd).display;\n",
              "        if (!display || display === 'none') {{\n",
              "            console.log([gd, 'removed!']);\n",
              "            Plotly.purge(gd);\n",
              "            observer.disconnect();\n",
              "        }}\n",
              "}});\n",
              "\n",
              "// Listen for the removal of the full notebook cells\n",
              "var notebookContainer = gd.closest('#notebook-container');\n",
              "if (notebookContainer) {{\n",
              "    x.observe(notebookContainer, {childList: true});\n",
              "}}\n",
              "\n",
              "// Listen for the clearing of the current output cell\n",
              "var outputEl = gd.closest('.output');\n",
              "if (outputEl) {{\n",
              "    x.observe(outputEl, {childList: true});\n",
              "}}\n",
              "\n",
              "                        })\n",
              "                };\n",
              "                \n",
              "            </script>\n",
              "        </div>\n",
              "</body>\n",
              "</html>"
            ]
          },
          "metadata": {}
        }
      ]
    },
    {
      "cell_type": "code",
      "source": [
        "df.corr().style.background_gradient(cmap='PuBu')"
      ],
      "metadata": {
        "colab": {
          "base_uri": "https://localhost:8080/",
          "height": 237
        },
        "id": "KQ_v2Yyh6is0",
        "outputId": "b2669a78-ff6d-4b4e-bd6d-0777fde74616"
      },
      "execution_count": 9,
      "outputs": [
        {
          "output_type": "execute_result",
          "data": {
            "text/html": [
              "<style  type=\"text/css\" >\n",
              "#T_ff2a3ab8_6378_11ec_9faa_0242ac1c0002row0_col0,#T_ff2a3ab8_6378_11ec_9faa_0242ac1c0002row1_col1,#T_ff2a3ab8_6378_11ec_9faa_0242ac1c0002row2_col2,#T_ff2a3ab8_6378_11ec_9faa_0242ac1c0002row3_col3,#T_ff2a3ab8_6378_11ec_9faa_0242ac1c0002row4_col4,#T_ff2a3ab8_6378_11ec_9faa_0242ac1c0002row5_col5{\n",
              "            background-color:  #023858;\n",
              "            color:  #f1f1f1;\n",
              "        }#T_ff2a3ab8_6378_11ec_9faa_0242ac1c0002row0_col1{\n",
              "            background-color:  #adc1dd;\n",
              "            color:  #000000;\n",
              "        }#T_ff2a3ab8_6378_11ec_9faa_0242ac1c0002row0_col2{\n",
              "            background-color:  #80aed2;\n",
              "            color:  #000000;\n",
              "        }#T_ff2a3ab8_6378_11ec_9faa_0242ac1c0002row0_col3{\n",
              "            background-color:  #8cb3d5;\n",
              "            color:  #000000;\n",
              "        }#T_ff2a3ab8_6378_11ec_9faa_0242ac1c0002row0_col4{\n",
              "            background-color:  #2a88bc;\n",
              "            color:  #000000;\n",
              "        }#T_ff2a3ab8_6378_11ec_9faa_0242ac1c0002row0_col5{\n",
              "            background-color:  #d2d2e7;\n",
              "            color:  #000000;\n",
              "        }#T_ff2a3ab8_6378_11ec_9faa_0242ac1c0002row1_col0{\n",
              "            background-color:  #faf2f8;\n",
              "            color:  #000000;\n",
              "        }#T_ff2a3ab8_6378_11ec_9faa_0242ac1c0002row1_col2,#T_ff2a3ab8_6378_11ec_9faa_0242ac1c0002row1_col5,#T_ff2a3ab8_6378_11ec_9faa_0242ac1c0002row2_col1,#T_ff2a3ab8_6378_11ec_9faa_0242ac1c0002row2_col4,#T_ff2a3ab8_6378_11ec_9faa_0242ac1c0002row5_col0,#T_ff2a3ab8_6378_11ec_9faa_0242ac1c0002row5_col3{\n",
              "            background-color:  #fff7fb;\n",
              "            color:  #000000;\n",
              "        }#T_ff2a3ab8_6378_11ec_9faa_0242ac1c0002row1_col3{\n",
              "            background-color:  #3991c1;\n",
              "            color:  #000000;\n",
              "        }#T_ff2a3ab8_6378_11ec_9faa_0242ac1c0002row1_col4{\n",
              "            background-color:  #046096;\n",
              "            color:  #f1f1f1;\n",
              "        }#T_ff2a3ab8_6378_11ec_9faa_0242ac1c0002row2_col0{\n",
              "            background-color:  #d9d8ea;\n",
              "            color:  #000000;\n",
              "        }#T_ff2a3ab8_6378_11ec_9faa_0242ac1c0002row2_col3{\n",
              "            background-color:  #fef6fb;\n",
              "            color:  #000000;\n",
              "        }#T_ff2a3ab8_6378_11ec_9faa_0242ac1c0002row2_col5{\n",
              "            background-color:  #04649e;\n",
              "            color:  #f1f1f1;\n",
              "        }#T_ff2a3ab8_6378_11ec_9faa_0242ac1c0002row3_col0{\n",
              "            background-color:  #569dc8;\n",
              "            color:  #000000;\n",
              "        }#T_ff2a3ab8_6378_11ec_9faa_0242ac1c0002row3_col1{\n",
              "            background-color:  #0567a2;\n",
              "            color:  #f1f1f1;\n",
              "        }#T_ff2a3ab8_6378_11ec_9faa_0242ac1c0002row3_col2{\n",
              "            background-color:  #7eadd1;\n",
              "            color:  #000000;\n",
              "        }#T_ff2a3ab8_6378_11ec_9faa_0242ac1c0002row3_col4{\n",
              "            background-color:  #045788;\n",
              "            color:  #f1f1f1;\n",
              "        }#T_ff2a3ab8_6378_11ec_9faa_0242ac1c0002row3_col5{\n",
              "            background-color:  #9ab8d8;\n",
              "            color:  #000000;\n",
              "        }#T_ff2a3ab8_6378_11ec_9faa_0242ac1c0002row4_col0{\n",
              "            background-color:  #2f8bbe;\n",
              "            color:  #000000;\n",
              "        }#T_ff2a3ab8_6378_11ec_9faa_0242ac1c0002row4_col1{\n",
              "            background-color:  #045687;\n",
              "            color:  #f1f1f1;\n",
              "        }#T_ff2a3ab8_6378_11ec_9faa_0242ac1c0002row4_col2{\n",
              "            background-color:  #c0c9e2;\n",
              "            color:  #000000;\n",
              "        }#T_ff2a3ab8_6378_11ec_9faa_0242ac1c0002row4_col3{\n",
              "            background-color:  #045f95;\n",
              "            color:  #f1f1f1;\n",
              "        }#T_ff2a3ab8_6378_11ec_9faa_0242ac1c0002row4_col5{\n",
              "            background-color:  #d5d5e8;\n",
              "            color:  #000000;\n",
              "        }#T_ff2a3ab8_6378_11ec_9faa_0242ac1c0002row5_col1{\n",
              "            background-color:  #eee9f3;\n",
              "            color:  #000000;\n",
              "        }#T_ff2a3ab8_6378_11ec_9faa_0242ac1c0002row5_col2{\n",
              "            background-color:  #046198;\n",
              "            color:  #f1f1f1;\n",
              "        }#T_ff2a3ab8_6378_11ec_9faa_0242ac1c0002row5_col4{\n",
              "            background-color:  #fcf4fa;\n",
              "            color:  #000000;\n",
              "        }</style><table id=\"T_ff2a3ab8_6378_11ec_9faa_0242ac1c0002\" class=\"dataframe\"><thead>    <tr>        <th class=\"blank level0\" ></th>        <th class=\"col_heading level0 col0\" >Temperature</th>        <th class=\"col_heading level0 col1\" >Humidity</th>        <th class=\"col_heading level0 col2\" >Light</th>        <th class=\"col_heading level0 col3\" >CO2</th>        <th class=\"col_heading level0 col4\" >HumidityRatio</th>        <th class=\"col_heading level0 col5\" >Occupancy</th>    </tr></thead><tbody>\n",
              "                <tr>\n",
              "                        <th id=\"T_ff2a3ab8_6378_11ec_9faa_0242ac1c0002level0_row0\" class=\"row_heading level0 row0\" >Temperature</th>\n",
              "                        <td id=\"T_ff2a3ab8_6378_11ec_9faa_0242ac1c0002row0_col0\" class=\"data row0 col0\" >1.000000</td>\n",
              "                        <td id=\"T_ff2a3ab8_6378_11ec_9faa_0242ac1c0002row0_col1\" class=\"data row0 col1\" >0.716988</td>\n",
              "                        <td id=\"T_ff2a3ab8_6378_11ec_9faa_0242ac1c0002row0_col2\" class=\"data row0 col2\" >0.768428</td>\n",
              "                        <td id=\"T_ff2a3ab8_6378_11ec_9faa_0242ac1c0002row0_col3\" class=\"data row0 col3\" >0.870226</td>\n",
              "                        <td id=\"T_ff2a3ab8_6378_11ec_9faa_0242ac1c0002row0_col4\" class=\"data row0 col4\" >0.894548</td>\n",
              "                        <td id=\"T_ff2a3ab8_6378_11ec_9faa_0242ac1c0002row0_col5\" class=\"data row0 col5\" >0.705784</td>\n",
              "            </tr>\n",
              "            <tr>\n",
              "                        <th id=\"T_ff2a3ab8_6378_11ec_9faa_0242ac1c0002level0_row1\" class=\"row_heading level0 row1\" >Humidity</th>\n",
              "                        <td id=\"T_ff2a3ab8_6378_11ec_9faa_0242ac1c0002row1_col0\" class=\"data row1 col0\" >0.716988</td>\n",
              "                        <td id=\"T_ff2a3ab8_6378_11ec_9faa_0242ac1c0002row1_col1\" class=\"data row1 col1\" >1.000000</td>\n",
              "                        <td id=\"T_ff2a3ab8_6378_11ec_9faa_0242ac1c0002row1_col2\" class=\"data row1 col2\" >0.561905</td>\n",
              "                        <td id=\"T_ff2a3ab8_6378_11ec_9faa_0242ac1c0002row1_col3\" class=\"data row1 col3\" >0.911611</td>\n",
              "                        <td id=\"T_ff2a3ab8_6378_11ec_9faa_0242ac1c0002row1_col4\" class=\"data row1 col4\" >0.951914</td>\n",
              "                        <td id=\"T_ff2a3ab8_6378_11ec_9faa_0242ac1c0002row1_col5\" class=\"data row1 col5\" >0.610764</td>\n",
              "            </tr>\n",
              "            <tr>\n",
              "                        <th id=\"T_ff2a3ab8_6378_11ec_9faa_0242ac1c0002level0_row2\" class=\"row_heading level0 row2\" >Light</th>\n",
              "                        <td id=\"T_ff2a3ab8_6378_11ec_9faa_0242ac1c0002row2_col0\" class=\"data row2 col0\" >0.768428</td>\n",
              "                        <td id=\"T_ff2a3ab8_6378_11ec_9faa_0242ac1c0002row2_col1\" class=\"data row2 col1\" >0.561905</td>\n",
              "                        <td id=\"T_ff2a3ab8_6378_11ec_9faa_0242ac1c0002row2_col2\" class=\"data row2 col2\" >1.000000</td>\n",
              "                        <td id=\"T_ff2a3ab8_6378_11ec_9faa_0242ac1c0002row2_col3\" class=\"data row2 col3\" >0.769167</td>\n",
              "                        <td id=\"T_ff2a3ab8_6378_11ec_9faa_0242ac1c0002row2_col4\" class=\"data row2 col4\" >0.693286</td>\n",
              "                        <td id=\"T_ff2a3ab8_6378_11ec_9faa_0242ac1c0002row2_col5\" class=\"data row2 col5\" >0.927949</td>\n",
              "            </tr>\n",
              "            <tr>\n",
              "                        <th id=\"T_ff2a3ab8_6378_11ec_9faa_0242ac1c0002level0_row3\" class=\"row_heading level0 row3\" >CO2</th>\n",
              "                        <td id=\"T_ff2a3ab8_6378_11ec_9faa_0242ac1c0002row3_col0\" class=\"data row3 col0\" >0.870226</td>\n",
              "                        <td id=\"T_ff2a3ab8_6378_11ec_9faa_0242ac1c0002row3_col1\" class=\"data row3 col1\" >0.911611</td>\n",
              "                        <td id=\"T_ff2a3ab8_6378_11ec_9faa_0242ac1c0002row3_col2\" class=\"data row3 col2\" >0.769167</td>\n",
              "                        <td id=\"T_ff2a3ab8_6378_11ec_9faa_0242ac1c0002row3_col3\" class=\"data row3 col3\" >1.000000</td>\n",
              "                        <td id=\"T_ff2a3ab8_6378_11ec_9faa_0242ac1c0002row3_col4\" class=\"data row3 col4\" >0.964440</td>\n",
              "                        <td id=\"T_ff2a3ab8_6378_11ec_9faa_0242ac1c0002row3_col5\" class=\"data row3 col5\" >0.768030</td>\n",
              "            </tr>\n",
              "            <tr>\n",
              "                        <th id=\"T_ff2a3ab8_6378_11ec_9faa_0242ac1c0002level0_row4\" class=\"row_heading level0 row4\" >HumidityRatio</th>\n",
              "                        <td id=\"T_ff2a3ab8_6378_11ec_9faa_0242ac1c0002row4_col0\" class=\"data row4 col0\" >0.894548</td>\n",
              "                        <td id=\"T_ff2a3ab8_6378_11ec_9faa_0242ac1c0002row4_col1\" class=\"data row4 col1\" >0.951914</td>\n",
              "                        <td id=\"T_ff2a3ab8_6378_11ec_9faa_0242ac1c0002row4_col2\" class=\"data row4 col2\" >0.693286</td>\n",
              "                        <td id=\"T_ff2a3ab8_6378_11ec_9faa_0242ac1c0002row4_col3\" class=\"data row4 col3\" >0.964440</td>\n",
              "                        <td id=\"T_ff2a3ab8_6378_11ec_9faa_0242ac1c0002row4_col4\" class=\"data row4 col4\" >1.000000</td>\n",
              "                        <td id=\"T_ff2a3ab8_6378_11ec_9faa_0242ac1c0002row4_col5\" class=\"data row4 col5\" >0.700330</td>\n",
              "            </tr>\n",
              "            <tr>\n",
              "                        <th id=\"T_ff2a3ab8_6378_11ec_9faa_0242ac1c0002level0_row5\" class=\"row_heading level0 row5\" >Occupancy</th>\n",
              "                        <td id=\"T_ff2a3ab8_6378_11ec_9faa_0242ac1c0002row5_col0\" class=\"data row5 col0\" >0.705784</td>\n",
              "                        <td id=\"T_ff2a3ab8_6378_11ec_9faa_0242ac1c0002row5_col1\" class=\"data row5 col1\" >0.610764</td>\n",
              "                        <td id=\"T_ff2a3ab8_6378_11ec_9faa_0242ac1c0002row5_col2\" class=\"data row5 col2\" >0.927949</td>\n",
              "                        <td id=\"T_ff2a3ab8_6378_11ec_9faa_0242ac1c0002row5_col3\" class=\"data row5 col3\" >0.768030</td>\n",
              "                        <td id=\"T_ff2a3ab8_6378_11ec_9faa_0242ac1c0002row5_col4\" class=\"data row5 col4\" >0.700330</td>\n",
              "                        <td id=\"T_ff2a3ab8_6378_11ec_9faa_0242ac1c0002row5_col5\" class=\"data row5 col5\" >1.000000</td>\n",
              "            </tr>\n",
              "    </tbody></table>"
            ],
            "text/plain": [
              "<pandas.io.formats.style.Styler at 0x7f8eb82048d0>"
            ]
          },
          "metadata": {},
          "execution_count": 9
        }
      ]
    },
    {
      "cell_type": "code",
      "source": [
        "thresh = 0.75\n",
        "def correlation_network(data, corr_interval=[-0.8, 0.8], data_type=\"Train\", node_color=pallete[1]):\n",
        "    data = data\n",
        "    corr = data.corr()\n",
        "    corr = pd.melt(corr.reset_index(), id_vars='index')\n",
        "    corr.columns = ['x', 'y', 'value']\n",
        "    high_corr = corr[((corr['value'] <= corr_interval[0]) | (corr['value'] >= corr_interval[1]))]\n",
        "    high_corr = high_corr[(high_corr['value'] != 1)].reset_index(drop=True)\n",
        "    sources = list(high_corr.x.unique())\n",
        "    targets = list(high_corr.y.unique())\n",
        "    plt.figure(figsize=(16, 12))\n",
        "    g = nx.from_pandas_edgelist(high_corr, source='x', target='y') \n",
        "    layout = nx.spring_layout(g, iterations=50, k=0.6, seed=42)\n",
        "    target_size = [g.degree(t) * 80 for t in targets]\n",
        "    nx.draw_networkx_nodes(g, layout, nodelist=targets, node_size=target_size, node_color=node_color)\n",
        "    nx.draw_networkx_nodes(g, layout, nodelist=sources, node_color=node_color, node_size=800, alpha=0.5)\n",
        "    nx.draw_networkx_edges(g, layout, width=1, edge_color=pallete[1])\n",
        "    target_dict = dict(zip(targets, targets))\n",
        "    nx.draw_networkx_labels(g, layout, labels=target_dict)\n",
        "    plt.axis('off')\n",
        "    plt.title(f\"Column Correlations Network\", fontsize=25)\n",
        "    plt.show();"
      ],
      "metadata": {
        "id": "5yFkq92I6pvU"
      },
      "execution_count": 10,
      "outputs": []
    },
    {
      "cell_type": "code",
      "source": [
        "correlation_network(data=df, corr_interval=[-thresh, thresh], data_type=\"Train\", node_color=pallete[1])"
      ],
      "metadata": {
        "id": "XUdYNlYO6vqs"
      },
      "execution_count": 11,
      "outputs": []
    },
    {
      "cell_type": "code",
      "source": [
        "def hist(col, title):\n",
        "    plt.figure(figsize = (20, 8))\n",
        "    ax = sns.distplot(col,kde=False);\n",
        "    values = np.array([patch.get_height() for patch in ax.patches])\n",
        "    norm = plt.Normalize(values.min(), values.max())\n",
        "    colors = plt.cm.rainbow(norm(values))\n",
        "    for patch, color in zip(ax.patches, colors): patch.set_color(color)\n",
        "    plt.title(title, size = 20, color = palette[0])\n",
        "    sns.set_style(\"whitegrid\")\n",
        "def triple_plot(x, title,c):\n",
        "    fig, ax = plt.subplots(3,1,figsize=(20, 8),sharex=True)\n",
        "    sns.distplot(x, ax=ax[0],color=c)\n",
        "    ax[0].set(xlabel=None)\n",
        "    ax[0].set_title('Histogram + KDE')\n",
        "    sns.boxplot(x, ax=ax[1],color=c)\n",
        "    ax[1].set(xlabel=None)\n",
        "    ax[1].set_title('Boxplot')\n",
        "    sns.violinplot(x, ax=ax[2],color=c)\n",
        "    ax[2].set(xlabel=None)\n",
        "    ax[2].set_title('Violin plot')\n",
        "    #     fig.suptitle(title, fontsize=16)\n",
        "    plt.tight_layout(pad=3.0)\n",
        "    plt.show()"
      ],
      "metadata": {
        "id": "Ny9uKAca6xLU"
      },
      "execution_count": 12,
      "outputs": []
    },
    {
      "cell_type": "code",
      "source": [
        "for col in [i for i in df.columns if i != 'date']: \n",
        "    hist(df[col], 'Distribution of ' + col)    \n",
        "    triple_plot(df[col],'Distribution ' + col, random.choice(list(color_maps.values()))[4])"
      ],
      "metadata": {
        "id": "fI70j4kW9Vvc"
      },
      "execution_count": 13,
      "outputs": []
    },
    {
      "cell_type": "code",
      "source": [
        ""
      ],
      "metadata": {
        "id": "tRjD3FhJ9kVa"
      },
      "execution_count": 13,
      "outputs": []
    },
    {
      "cell_type": "code",
      "source": [
        ""
      ],
      "metadata": {
        "id": "L_pmw8AqzvHz"
      },
      "execution_count": 13,
      "outputs": []
    }
  ]
}